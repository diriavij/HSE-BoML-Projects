{
  "cells": [
    {
      "cell_type": "markdown",
      "metadata": {
        "id": "LrLK90XK8G_U"
      },
      "source": [
        "## Домашнее задание 1 (5 баллов)\n",
        "\n",
        "Все задания ниже имеют равный вес (5/10)."
      ]
    },
    {
      "cell_type": "markdown",
      "metadata": {
        "id": "g3XzUgnT8G_V"
      },
      "source": [
        "### О задании\n",
        "\n",
        "В этом домашнем задании вы попрактикуетесь в работе с библиотекой numpy, которая позволяет сравнительно легко и удобно выполнять разнообразные вычисления, избегая самостоятельной реализации поэлементной обработки."
      ]
    },
    {
      "cell_type": "markdown",
      "metadata": {
        "id": "2Lq9OvXG8G_V"
      },
      "source": [
        "Во всех задачах необходимо написать код решения внутри функции и убедиться, что она работает, с помощью [assert](https://python-reference.readthedocs.io/en/latest/docs/statements/assert.html) на выражение с использованием этой функции для данных из условия.\n",
        "\n",
        "При решении задач запрещается использовать циклы (`for`, `while`) и оператор `if`. Да, `map`, `reduce`, `filter` и любые другие \"чисто питоновские\" конструкции тоже запрещены. **Используйте только функционал numpy**.\n",
        "\n",
        "Везде, где встречаются массивы или матрицы, подразумевается, что это `numpy.array`.\n",
        "\n",
        "**numpy reference:** https://numpy.org/doc/stable/reference/index.html"
      ]
    },
    {
      "cell_type": "code",
      "execution_count": 4,
      "metadata": {
        "pycharm": {
          "name": "#%%\n"
        },
        "id": "YM28Eunk8G_W"
      },
      "outputs": [],
      "source": [
        "import numpy as np"
      ]
    },
    {
      "cell_type": "markdown",
      "metadata": {
        "id": "KrOBIA5i8G_W"
      },
      "source": [
        "### Задание 1\n",
        "\n",
        "Напишите функцию, возвращающую округленную взвешенную сумму оценок по данным оценкам и весам. Можете посчитать свою оценку за курс :) В нашем случае вес экзамена равен 0.3, вес домашек - 0.4, вес контрольной - 0.2, вес самостоятельных - 0.1. Например, если за экзамен у вас 7, за домашки 10, за контрольную 8, а за самостоятельные 6, то вы получите отличную оценку 8!\n",
        "\n",
        "Обратите внимание, что на вход приходит всегда двумерный массив. В нем в каждой строке - окенки одного конкретного студента. От вас требуется вернуть итоговую оценку для всех студентов в массиве."
      ]
    },
    {
      "cell_type": "code",
      "execution_count": 7,
      "metadata": {
        "id": "A6NTRA4K8G_W"
      },
      "outputs": [],
      "source": [
        "def result_mark(weights: np.array, marks: np.array) -> int:\n",
        "    return np.sum(weights * marks, axis=marks.ndim - 1).astype(int)"
      ]
    },
    {
      "cell_type": "code",
      "execution_count": 8,
      "metadata": {
        "id": "JlKbydMQ8G_X"
      },
      "outputs": [],
      "source": [
        "weights = np.array([0.3, 0.4, 0.2, 0.1])\n",
        "marks = np.array([[7, 10, 8, 6], [6, 9, 7, 6]])\n",
        "\n",
        "assert np.allclose(result_mark(weights, marks), np.array([8, 7]))"
      ]
    },
    {
      "cell_type": "code",
      "execution_count": 9,
      "metadata": {
        "id": "0Ain8Odo8G_X"
      },
      "outputs": [],
      "source": [
        "weights = np.array([0.3, 0.4, 0.2, 0.1])\n",
        "marks = np.array([7, 0, 8, 6])\n",
        "\n",
        "assert np.allclose(result_mark(weights, marks), np.array([4]))"
      ]
    },
    {
      "cell_type": "markdown",
      "metadata": {
        "id": "Ct5BSm1m8G_X"
      },
      "source": [
        "### Задание 2\n",
        "\n",
        "Напишите функцию, которая каждое четное число в массиве заменяет на его квадрат (вторую степень), а нечетное - на его синус. Округлите все значения в итоговом массиве до двух знаков после запятой."
      ]
    },
    {
      "cell_type": "code",
      "execution_count": 10,
      "metadata": {
        "id": "Mhxp_0yu8G_X"
      },
      "outputs": [],
      "source": [
        "def change_array(array: np.array) -> np.array:\n",
        "    return ((array * (array % 2 == 0)) ** 2 + np.sin(array * (array % 2 != 0))).round(2)"
      ]
    },
    {
      "cell_type": "code",
      "execution_count": 11,
      "metadata": {
        "id": "8xrfvuj-8G_Y"
      },
      "outputs": [],
      "source": [
        "array = np.array([2, 5, 1, 0, -6, 22, 213431])\n",
        "\n",
        "assert np.allclose(change_array(array), np.array([4.0, -0.96, 0.84, 0.0, 36.0, 484.0, -0.58]))"
      ]
    },
    {
      "cell_type": "code",
      "execution_count": 12,
      "metadata": {
        "id": "9f8E5Nln8G_Y"
      },
      "outputs": [],
      "source": [
        "array = np.array([3, 12, 15, -97, 6])\n",
        "\n",
        "assert np.allclose(change_array(array), np.array([0.14, 144.0, 0.65, -0.38, 36.0]))"
      ]
    },
    {
      "cell_type": "markdown",
      "metadata": {
        "id": "ZAlUu0zL8G_Y"
      },
      "source": [
        "### Задание 3\n",
        "\n",
        "Напишите функцию, которая вычисляет разность каждого элемента с предыдущим (для самого первого считайте, что его разница с \"предыдущим\" нулевая) в виде нового массива и возвращает вектор, в котором каждый новый элемент - сумма всех предыдущих из полученного нового массива."
      ]
    },
    {
      "cell_type": "code",
      "execution_count": 13,
      "metadata": {
        "id": "0VX2CtWj8G_Y"
      },
      "outputs": [],
      "source": [
        "def cumulative_sum_of_differences(array):\n",
        "    diff = np.zeros(array.shape)\n",
        "    diff[1:] = array[1:] - array[:-1]\n",
        "\n",
        "    answer = np.cumsum(diff)\n",
        "    return answer"
      ]
    },
    {
      "cell_type": "code",
      "execution_count": 14,
      "metadata": {
        "id": "IQncbs848G_Y"
      },
      "outputs": [],
      "source": [
        "array = np.array([3, 6, 2, 8])\n",
        "\n",
        "assert np.allclose(cumulative_sum_of_differences(array), np.array([0, 3, -1, 5]))"
      ]
    },
    {
      "cell_type": "code",
      "execution_count": 15,
      "metadata": {
        "id": "noIyBVHu8G_Y"
      },
      "outputs": [],
      "source": [
        "array = np.array([5, 1])\n",
        "\n",
        "assert np.allclose(cumulative_sum_of_differences(array), np.array([0, -4]))"
      ]
    },
    {
      "cell_type": "markdown",
      "metadata": {
        "id": "GZ_QHvdX8G_Y"
      },
      "source": [
        "### Задание 4\n",
        "\n",
        "Напишите функцию, которая транспонирует двумерный массив, затем делает из него одномерный (reshape), переводит все элементы массива в *int8* и выводит его отсортированным по убыванию."
      ]
    },
    {
      "cell_type": "code",
      "execution_count": 16,
      "metadata": {
        "id": "UqEeWyWb8G_Y"
      },
      "outputs": [],
      "source": [
        "def flatten_and_sort_transposed(array: np.array) -> np.array:\n",
        "    return np.sort(array.T.reshape(-1).astype(np.int8))[::-1]"
      ]
    },
    {
      "cell_type": "code",
      "execution_count": 17,
      "metadata": {
        "id": "MLidYiFj8G_Y"
      },
      "outputs": [],
      "source": [
        "array = np.array([[256, -10], [-381, 112]])\n",
        "\n",
        "assert np.allclose(flatten_and_sort_transposed(array), np.array([112, 0, -10, -125]))"
      ]
    },
    {
      "cell_type": "code",
      "execution_count": 18,
      "metadata": {
        "id": "2kSWvoUa8G_Y"
      },
      "outputs": [],
      "source": [
        "array = np.array([[9, 8, 7], [3, 6, 129]])\n",
        "\n",
        "assert np.allclose(flatten_and_sort_transposed(array), np.array([ 9, 8, 7, 6, 3, -127]))"
      ]
    },
    {
      "cell_type": "markdown",
      "metadata": {
        "id": "5xFnVtfx8G_Y"
      },
      "source": [
        "### Задание 5\n",
        "\n",
        "Напишите функцию, которая удаляет из массива все строки, среднее значение в которых больше общего среднего значения по всему массиву."
      ]
    },
    {
      "cell_type": "code",
      "execution_count": 19,
      "metadata": {
        "id": "SeQDhszd8G_Y"
      },
      "outputs": [],
      "source": [
        "def filter_rows_by_mean(array):\n",
        "    return array[np.mean(array, axis=1) <= np.mean(array)]"
      ]
    },
    {
      "cell_type": "code",
      "execution_count": 20,
      "metadata": {
        "id": "Q89-hXR38G_Z"
      },
      "outputs": [],
      "source": [
        "array = np.array([[1, 2, 3], [7, 8, 9], [4, 5, 6]])\n",
        "res = filter_rows_by_mean(array)\n",
        "\n",
        "assert res.ndim == 2\n",
        "assert np.allclose(res, np.array([[1, 2, 3], [4, 5, 6]]))"
      ]
    },
    {
      "cell_type": "code",
      "execution_count": 21,
      "metadata": {
        "id": "CLgkFegb8G_Z"
      },
      "outputs": [],
      "source": [
        "array = np.array([[10, 20], [5, 5], [15, 15]])\n",
        "res = filter_rows_by_mean(array)\n",
        "\n",
        "assert res.ndim == 2\n",
        "assert np.allclose(res, np.array([[5, 5]]))"
      ]
    },
    {
      "cell_type": "markdown",
      "metadata": {
        "id": "jfSFtsAk8G_Z"
      },
      "source": [
        "### Задание 6\n",
        "\n",
        "Напишите функцию, которая принимает на вход число - размер массива (квадратная матрица), который заполнен по принипу шахматной доски нулями и единицами. Первой (слева сверху) идет всегда единица. Напомним, что на шахматной доске белые и черные ячейки чередуются (в данном задании чередуются нули и единицы)."
      ]
    },
    {
      "cell_type": "code",
      "execution_count": 22,
      "metadata": {
        "id": "oj0dpUkZ8G_Z"
      },
      "outputs": [],
      "source": [
        "def create_checkerboard(number):\n",
        "    array = np.zeros((number, number), dtype=int)\n",
        "    array[::2, ::2] = 1\n",
        "    array[1::2, 1::2] = 1\n",
        "    return array"
      ]
    },
    {
      "cell_type": "code",
      "execution_count": 23,
      "metadata": {
        "id": "zN8bDj7b8G_Z"
      },
      "outputs": [],
      "source": [
        "number = 3\n",
        "\n",
        "assert np.allclose(create_checkerboard(number) - np.array([[1, 0, 1], [0, 1, 0], [1, 0, 1]]), np.zeros((number, number)))"
      ]
    },
    {
      "cell_type": "code",
      "execution_count": 24,
      "metadata": {
        "id": "Hggp8qEh8G_Z"
      },
      "outputs": [],
      "source": [
        "number = 4\n",
        "\n",
        "assert np.allclose(create_checkerboard(number) - np.array([[1, 0, 1, 0], [0, 1, 0, 1], [1, 0, 1, 0], [0, 1, 0, 1]]), np.zeros((number, number)))"
      ]
    },
    {
      "cell_type": "markdown",
      "metadata": {
        "id": "iHJoHJVC8G_Z"
      },
      "source": [
        "### Задание 7\n",
        "\n",
        "Напишите функцию, которая соритрует строки двумерного массива по значению в первом столбце (по возрастанию)."
      ]
    },
    {
      "cell_type": "code",
      "execution_count": 25,
      "metadata": {
        "id": "ajV1Ym9I8G_Z"
      },
      "outputs": [],
      "source": [
        "def sort_rows_by_second_column(array):\n",
        "    return array[array[:, 1].argsort()]"
      ]
    },
    {
      "cell_type": "code",
      "execution_count": 26,
      "metadata": {
        "id": "-Jcrjeo18G_Z"
      },
      "outputs": [],
      "source": [
        "array = np.array([[10, 2], [3, 5], [7, 1]])\n",
        "\n",
        "assert np.allclose(sort_rows_by_second_column(array), np.array([[7, 1], [10, 2], [3, 5]]))"
      ]
    },
    {
      "cell_type": "code",
      "execution_count": 27,
      "metadata": {
        "id": "Ug5H02B28G_Z"
      },
      "outputs": [],
      "source": [
        "array = np.array([[5, 8, 1], [10, 3, 9], [2, 7, 0], [6, -1, 5]])\n",
        "\n",
        "assert np.allclose(sort_rows_by_second_column(array), np.array([[6, -1, 5], [10, 3, 9], [2, 7, 0], [5, 8, 1]]))"
      ]
    },
    {
      "cell_type": "markdown",
      "metadata": {
        "id": "T1w9Uspz8G_Z"
      },
      "source": [
        "### Задание 8\n",
        "\n",
        "Напишите функцию, которая вычисляет сумму элементов [побочной](https://ru.wikipedia.org/wiki/Квадратная_матрица) диагонали квадратной матрицы."
      ]
    },
    {
      "cell_type": "code",
      "execution_count": 28,
      "metadata": {
        "id": "2mNLczTT8G_Z"
      },
      "outputs": [],
      "source": [
        "def sum_counterdiagonal_elements(array):\n",
        "    return np.trace(array[::-1])"
      ]
    },
    {
      "cell_type": "code",
      "execution_count": 29,
      "metadata": {
        "id": "ca5MYBS48G_Z"
      },
      "outputs": [],
      "source": [
        "array = np.array([[5, 8, 1], [10, 3, 9], [2, 7, 0]])\n",
        "\n",
        "assert sum_counterdiagonal_elements(array) == 6"
      ]
    },
    {
      "cell_type": "code",
      "execution_count": 30,
      "metadata": {
        "id": "mE5ksRUO8G_Z"
      },
      "outputs": [],
      "source": [
        "array = np.array([[-4, -1, -1, 7], [6, -10, 5, -9], [3, -8, 6, 8], [-1, -6, 7, -10]])\n",
        "\n",
        "assert sum_counterdiagonal_elements(array) == 3"
      ]
    },
    {
      "cell_type": "markdown",
      "metadata": {
        "id": "MrdzLV2O8G_Z"
      },
      "source": [
        "### Задание 9\n",
        "\n",
        "Напишите функцию, которая принимает на вход три числа (начало отрезка, конец отрезка, количество точек на отрезке). Данная функция генерирует указанное количество точек равномерно на отрезке с указанными концами (точки равноудалены друг от друга). Затем функция генерирует другой массив - натуральный логарифм от всех точек отрезка плюс единица ($ln(point + 1)$). Возвращает функция массив пар точек вида (точка на отрезке, ее логарифм). Каждое значение в возвращаемом массиве должно быть округлено до двух знаков после запятой."
      ]
    },
    {
      "cell_type": "code",
      "execution_count": 31,
      "metadata": {
        "id": "Tp02bxl38G_a"
      },
      "outputs": [],
      "source": [
        "def generate_logarithm_points(start, end, count):\n",
        "    dots = np.linspace(start, end, count)\n",
        "    logs = np.log(dots + 1)\n",
        "\n",
        "    return np.column_stack((dots, logs)).round(2)"
      ]
    },
    {
      "cell_type": "code",
      "execution_count": 32,
      "metadata": {
        "id": "DgGHjjGG8G_a"
      },
      "outputs": [],
      "source": [
        "start = 1\n",
        "end = 10\n",
        "count = 5\n",
        "\n",
        "assert np.allclose(generate_logarithm_points(start, end, count), np.array([[1., 0.69], [3.25, 1.45], [5.5 , 1.87], [7.75, 2.17], [10., 2.4]]))"
      ]
    },
    {
      "cell_type": "code",
      "execution_count": 33,
      "metadata": {
        "id": "Us3PefUz8G_a"
      },
      "outputs": [],
      "source": [
        "start = 5\n",
        "end = 12\n",
        "count = 4\n",
        "\n",
        "assert np.allclose(generate_logarithm_points(start, end, count), np.array([[5., 1.79], [7.33, 2.12], [9.67, 2.37], [12., 2.56]]))"
      ]
    },
    {
      "cell_type": "markdown",
      "metadata": {
        "id": "SFz_-Kpn8G_a"
      },
      "source": [
        "### Задание 10\n",
        "\n",
        "Напишите функцию, которая нормализует входной двумерный массив.\n",
        "\n",
        "Под нормализацией в данном задании подразумевается перевод всех чисел массива на отрезок $[0; 1]$. Очевидно, недостаточно просто вычесть/прибавить лишнее, чтобы остались числа на нужном отрезке. Суть нормализации массива в том, чтобы не потерять информацию о его элементах и их соотношениях. Потому, необходимо сохранить пропорции расстояний между каждым числом - спроецировать все точки на указанный отрезок. Такой метод масштабирования массива называется MinMaxScaling. Само название дает подсказку, как нужно решить задачу. Дробные числа округляйте до двух знаков после запятой.\n",
        "\n",
        "*Будьте осторожны с делением...*"
      ]
    },
    {
      "cell_type": "code",
      "execution_count": 2,
      "metadata": {
        "id": "6Z5ys8Jl8G_a"
      },
      "outputs": [],
      "source": [
        "def min_max_scale(array):\n",
        "    minimum = np.min(array)\n",
        "    maximum = np.max(array)\n",
        "\n",
        "    range = np.where(maximum - minimum == 0, 1, maximum - minimum)\n",
        "    result = (array - minimum) / range\n",
        "    return result.round(2)"
      ]
    },
    {
      "cell_type": "code",
      "execution_count": 34,
      "metadata": {
        "id": "ARZOxCN58G_a"
      },
      "outputs": [],
      "source": [
        "array = np.array([[1, 2, 3], [4, 5, 6], [7, 8, 9]])\n",
        "\n",
        "assert np.allclose(min_max_scale(array), np.array([[0. , 0.12, 0.25], [0.38, 0.5 , 0.62], [0.75, 0.88, 1.]]))"
      ]
    },
    {
      "cell_type": "code",
      "execution_count": 35,
      "metadata": {
        "id": "G3n9yOyz8G_a"
      },
      "outputs": [],
      "source": [
        "array = np.array([[0, 1, 2], [3, 4, 5]])\n",
        "\n",
        "assert np.allclose(min_max_scale(array), np.array([[0., 0.2, 0.4], [0.6, 0.8, 1.]]))"
      ]
    },
    {
      "cell_type": "code",
      "execution_count": 36,
      "metadata": {
        "id": "8NU3yr_A8G_b"
      },
      "outputs": [],
      "source": [
        "array = np.array([[0, 0, 0], [0, 0, 0]])\n",
        "\n",
        "assert np.allclose(min_max_scale(array), np.array([[0., 0., 0.], [0., 0., 0.]]))"
      ]
    }
  ],
  "metadata": {
    "kernelspec": {
      "display_name": "default",
      "language": "python",
      "name": "python3"
    },
    "language_info": {
      "codemirror_mode": {
        "name": "ipython",
        "version": 3
      },
      "file_extension": ".py",
      "mimetype": "text/x-python",
      "name": "python",
      "nbconvert_exporter": "python",
      "pygments_lexer": "ipython3",
      "version": "3.11.9"
    },
    "colab": {
      "provenance": []
    }
  },
  "nbformat": 4,
  "nbformat_minor": 0
}