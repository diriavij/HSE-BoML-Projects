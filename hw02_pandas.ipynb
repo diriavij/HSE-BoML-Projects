{
  "cells": [
    {
      "cell_type": "markdown",
      "metadata": {
        "_uuid": "21c25e4f8bb31570029fd6b069131a5d00f84cf1",
        "id": "BMB2wk_VdP4Q"
      },
      "source": [
        "# Домашнее задание 2 (5 баллов).\n",
        "\n",
        "*Все задания ниже имеют равный вес (5/10)*"
      ]
    },
    {
      "cell_type": "markdown",
      "metadata": {
        "id": "txC450SadP4S"
      },
      "source": [
        "Код для импорта мы написали за вас (не благодарите, нам не трудно). Дальше код будете писать вы.\n",
        "\n",
        "[Тут](https://habr.com/ru/companies/ruvds/articles/494720/) шпора по pandas. За основу домашнего задания взят ноутбук [отсюда](https://rutube.ru/video/f884aa6ed5f94120b7304506042fe5bb/) (не подглядывайте!)."
      ]
    },
    {
      "cell_type": "code",
      "execution_count": 66,
      "metadata": {
        "_uuid": "568eb2d31004b87d22e119112ae01a1e75105f1d",
        "id": "cBiM5MqudP4T"
      },
      "outputs": [],
      "source": [
        "import pandas as pd\n",
        "import numpy as np"
      ]
    },
    {
      "cell_type": "markdown",
      "metadata": {
        "id": "79OxnH2ydP4U"
      },
      "source": [
        "#### Описание данных\n",
        "\n",
        "Автор д/з - плохой человек, который не стал переводить описание с мотивировкой, что весь DS на английском. Так что описание полей будет на английском:\n",
        "\n",
        "1. Account ID\n",
        "- Description: A unique identifier for each social media account in the dataset.\n",
        "- Type: Integer\n",
        "- Example: 1, 2, 3, …\n",
        "2. Username\n",
        "- Description: The username or handle of the social media account.\n",
        "- Type: String\n",
        "- Example: john_doe, tech_guru_22, fitness_freak\n",
        "3. Platform\n",
        "- Description: The social media platform the account is using (Instagram, Twitter, Facebook, TikTok, LinkedIn).\n",
        "- Type: Categorical (String)\n",
        "- Example: Instagram, Twitter, Facebook, TikTok, LinkedIn\n",
        "4. Follower Count\n",
        "- Description: The total number of followers the account has.\n",
        "- Type: Integer\n",
        "- Example: 1500, 245000, 78000\n",
        "5. Posts Per Week\n",
        "- Description: The average number of posts the account creates per week.\n",
        "- Type: Integer\n",
        "- Example: 3, 5, 7\n",
        "6. Engagement Rate\n",
        "- Description: The percentage of interactions (likes, comments, shares) relative to the follower count. This is a measure of how engaging the content is.\n",
        "- Type: Float\n",
        "- Range: 0.01 to 0.15\n",
        "- Example: 0.045 (4.5% engagement rate)\n",
        "7. Ad Spend (USD)\n",
        "- Description: The monthly amount spent on advertising or promoting posts.\n",
        "- Type: Float\n",
        "- Example: 150.75, 850.00, 300.50\n",
        "8. Conversion Rate\n",
        "- Description: The percentage of users who take a desired action (e.g., clicking a link, signing up, etc.) after interacting with an ad.\n",
        "- Type: Float\n",
        "- Range: 0.01 to 0.05 (1% to 5% conversion rate)\n",
        "- Example: 0.025 (2.5% conversion rate)\n",
        "9. Campaign Reach\n",
        "- Description: The total number of unique users reached by the user’s campaigns in a given month.\n",
        "- Type: Integer\n",
        "- Example: 5000, 20000, 15000"
      ]
    },
    {
      "cell_type": "markdown",
      "metadata": {
        "id": "2D3au2kPdP4U"
      },
      "source": [
        "#### Задание 0\n",
        "\n",
        "Подгрузите данные. Да-да, за чтение таблицы баллов не будет))\n",
        "\n",
        "**Hint**: [pd.read_csv](https://pandas.pydata.org/pandas-docs/stable/reference/api/pandas.read_csv.html)"
      ]
    },
    {
      "cell_type": "code",
      "execution_count": 67,
      "metadata": {
        "id": "HdPcB6MXdP4V"
      },
      "outputs": [],
      "source": [
        "df = pd.read_csv(\"https://raw.githubusercontent.com/hse-ds/iad-intro-ds/master/2025/homeworks/hw02-pandas/data.csv\")"
      ]
    },
    {
      "cell_type": "code",
      "execution_count": 68,
      "metadata": {
        "colab": {
          "base_uri": "https://localhost:8080/",
          "height": 224
        },
        "id": "1gvW-fDpdP4V",
        "outputId": "44bfabaa-055c-4d0f-fb1e-bf683e1407ad"
      },
      "outputs": [
        {
          "output_type": "execute_result",
          "data": {
            "text/plain": [
              "      Account ID         Username   Platform  Follower Count  Posts Per Week  \\\n",
              "5686        5687         nvincent     TikTok          172292               5   \n",
              "4111        4112    ellenmitchell    Twitter          193280               7   \n",
              "6605        6606   randallmichael   LinkedIn          279213               2   \n",
              "2719        2720     byrdsamantha    Twitter          704682               3   \n",
              "7875        7876  samanthajohnson  Instagram          564359               1   \n",
              "\n",
              "      Engagement Rate  Ad Spend (USD)  Conversion Rate  Campaign Reach  \n",
              "5686           0.1020          651.28           0.0208           39822  \n",
              "4111           0.1020          159.96           0.0479           35990  \n",
              "6605           0.0986          899.10           0.0440           18202  \n",
              "2719           0.1020          878.37           0.0226           36358  \n",
              "7875           0.0642          894.70           0.0207           19716  "
            ],
            "text/html": [
              "\n",
              "  <div id=\"df-95a798ed-98bd-4d01-a356-0442ad6c3e94\" class=\"colab-df-container\">\n",
              "    <div>\n",
              "<style scoped>\n",
              "    .dataframe tbody tr th:only-of-type {\n",
              "        vertical-align: middle;\n",
              "    }\n",
              "\n",
              "    .dataframe tbody tr th {\n",
              "        vertical-align: top;\n",
              "    }\n",
              "\n",
              "    .dataframe thead th {\n",
              "        text-align: right;\n",
              "    }\n",
              "</style>\n",
              "<table border=\"1\" class=\"dataframe\">\n",
              "  <thead>\n",
              "    <tr style=\"text-align: right;\">\n",
              "      <th></th>\n",
              "      <th>Account ID</th>\n",
              "      <th>Username</th>\n",
              "      <th>Platform</th>\n",
              "      <th>Follower Count</th>\n",
              "      <th>Posts Per Week</th>\n",
              "      <th>Engagement Rate</th>\n",
              "      <th>Ad Spend (USD)</th>\n",
              "      <th>Conversion Rate</th>\n",
              "      <th>Campaign Reach</th>\n",
              "    </tr>\n",
              "  </thead>\n",
              "  <tbody>\n",
              "    <tr>\n",
              "      <th>5686</th>\n",
              "      <td>5687</td>\n",
              "      <td>nvincent</td>\n",
              "      <td>TikTok</td>\n",
              "      <td>172292</td>\n",
              "      <td>5</td>\n",
              "      <td>0.1020</td>\n",
              "      <td>651.28</td>\n",
              "      <td>0.0208</td>\n",
              "      <td>39822</td>\n",
              "    </tr>\n",
              "    <tr>\n",
              "      <th>4111</th>\n",
              "      <td>4112</td>\n",
              "      <td>ellenmitchell</td>\n",
              "      <td>Twitter</td>\n",
              "      <td>193280</td>\n",
              "      <td>7</td>\n",
              "      <td>0.1020</td>\n",
              "      <td>159.96</td>\n",
              "      <td>0.0479</td>\n",
              "      <td>35990</td>\n",
              "    </tr>\n",
              "    <tr>\n",
              "      <th>6605</th>\n",
              "      <td>6606</td>\n",
              "      <td>randallmichael</td>\n",
              "      <td>LinkedIn</td>\n",
              "      <td>279213</td>\n",
              "      <td>2</td>\n",
              "      <td>0.0986</td>\n",
              "      <td>899.10</td>\n",
              "      <td>0.0440</td>\n",
              "      <td>18202</td>\n",
              "    </tr>\n",
              "    <tr>\n",
              "      <th>2719</th>\n",
              "      <td>2720</td>\n",
              "      <td>byrdsamantha</td>\n",
              "      <td>Twitter</td>\n",
              "      <td>704682</td>\n",
              "      <td>3</td>\n",
              "      <td>0.1020</td>\n",
              "      <td>878.37</td>\n",
              "      <td>0.0226</td>\n",
              "      <td>36358</td>\n",
              "    </tr>\n",
              "    <tr>\n",
              "      <th>7875</th>\n",
              "      <td>7876</td>\n",
              "      <td>samanthajohnson</td>\n",
              "      <td>Instagram</td>\n",
              "      <td>564359</td>\n",
              "      <td>1</td>\n",
              "      <td>0.0642</td>\n",
              "      <td>894.70</td>\n",
              "      <td>0.0207</td>\n",
              "      <td>19716</td>\n",
              "    </tr>\n",
              "  </tbody>\n",
              "</table>\n",
              "</div>\n",
              "    <div class=\"colab-df-buttons\">\n",
              "\n",
              "  <div class=\"colab-df-container\">\n",
              "    <button class=\"colab-df-convert\" onclick=\"convertToInteractive('df-95a798ed-98bd-4d01-a356-0442ad6c3e94')\"\n",
              "            title=\"Convert this dataframe to an interactive table.\"\n",
              "            style=\"display:none;\">\n",
              "\n",
              "  <svg xmlns=\"http://www.w3.org/2000/svg\" height=\"24px\" viewBox=\"0 -960 960 960\">\n",
              "    <path d=\"M120-120v-720h720v720H120Zm60-500h600v-160H180v160Zm220 220h160v-160H400v160Zm0 220h160v-160H400v160ZM180-400h160v-160H180v160Zm440 0h160v-160H620v160ZM180-180h160v-160H180v160Zm440 0h160v-160H620v160Z\"/>\n",
              "  </svg>\n",
              "    </button>\n",
              "\n",
              "  <style>\n",
              "    .colab-df-container {\n",
              "      display:flex;\n",
              "      gap: 12px;\n",
              "    }\n",
              "\n",
              "    .colab-df-convert {\n",
              "      background-color: #E8F0FE;\n",
              "      border: none;\n",
              "      border-radius: 50%;\n",
              "      cursor: pointer;\n",
              "      display: none;\n",
              "      fill: #1967D2;\n",
              "      height: 32px;\n",
              "      padding: 0 0 0 0;\n",
              "      width: 32px;\n",
              "    }\n",
              "\n",
              "    .colab-df-convert:hover {\n",
              "      background-color: #E2EBFA;\n",
              "      box-shadow: 0px 1px 2px rgba(60, 64, 67, 0.3), 0px 1px 3px 1px rgba(60, 64, 67, 0.15);\n",
              "      fill: #174EA6;\n",
              "    }\n",
              "\n",
              "    .colab-df-buttons div {\n",
              "      margin-bottom: 4px;\n",
              "    }\n",
              "\n",
              "    [theme=dark] .colab-df-convert {\n",
              "      background-color: #3B4455;\n",
              "      fill: #D2E3FC;\n",
              "    }\n",
              "\n",
              "    [theme=dark] .colab-df-convert:hover {\n",
              "      background-color: #434B5C;\n",
              "      box-shadow: 0px 1px 3px 1px rgba(0, 0, 0, 0.15);\n",
              "      filter: drop-shadow(0px 1px 2px rgba(0, 0, 0, 0.3));\n",
              "      fill: #FFFFFF;\n",
              "    }\n",
              "  </style>\n",
              "\n",
              "    <script>\n",
              "      const buttonEl =\n",
              "        document.querySelector('#df-95a798ed-98bd-4d01-a356-0442ad6c3e94 button.colab-df-convert');\n",
              "      buttonEl.style.display =\n",
              "        google.colab.kernel.accessAllowed ? 'block' : 'none';\n",
              "\n",
              "      async function convertToInteractive(key) {\n",
              "        const element = document.querySelector('#df-95a798ed-98bd-4d01-a356-0442ad6c3e94');\n",
              "        const dataTable =\n",
              "          await google.colab.kernel.invokeFunction('convertToInteractive',\n",
              "                                                    [key], {});\n",
              "        if (!dataTable) return;\n",
              "\n",
              "        const docLinkHtml = 'Like what you see? Visit the ' +\n",
              "          '<a target=\"_blank\" href=https://colab.research.google.com/notebooks/data_table.ipynb>data table notebook</a>'\n",
              "          + ' to learn more about interactive tables.';\n",
              "        element.innerHTML = '';\n",
              "        dataTable['output_type'] = 'display_data';\n",
              "        await google.colab.output.renderOutput(dataTable, element);\n",
              "        const docLink = document.createElement('div');\n",
              "        docLink.innerHTML = docLinkHtml;\n",
              "        element.appendChild(docLink);\n",
              "      }\n",
              "    </script>\n",
              "  </div>\n",
              "\n",
              "\n",
              "<div id=\"df-edf8274d-c087-41b2-9d52-1b3c583f5a06\">\n",
              "  <button class=\"colab-df-quickchart\" onclick=\"quickchart('df-edf8274d-c087-41b2-9d52-1b3c583f5a06')\"\n",
              "            title=\"Suggest charts\"\n",
              "            style=\"display:none;\">\n",
              "\n",
              "<svg xmlns=\"http://www.w3.org/2000/svg\" height=\"24px\"viewBox=\"0 0 24 24\"\n",
              "     width=\"24px\">\n",
              "    <g>\n",
              "        <path d=\"M19 3H5c-1.1 0-2 .9-2 2v14c0 1.1.9 2 2 2h14c1.1 0 2-.9 2-2V5c0-1.1-.9-2-2-2zM9 17H7v-7h2v7zm4 0h-2V7h2v10zm4 0h-2v-4h2v4z\"/>\n",
              "    </g>\n",
              "</svg>\n",
              "  </button>\n",
              "\n",
              "<style>\n",
              "  .colab-df-quickchart {\n",
              "      --bg-color: #E8F0FE;\n",
              "      --fill-color: #1967D2;\n",
              "      --hover-bg-color: #E2EBFA;\n",
              "      --hover-fill-color: #174EA6;\n",
              "      --disabled-fill-color: #AAA;\n",
              "      --disabled-bg-color: #DDD;\n",
              "  }\n",
              "\n",
              "  [theme=dark] .colab-df-quickchart {\n",
              "      --bg-color: #3B4455;\n",
              "      --fill-color: #D2E3FC;\n",
              "      --hover-bg-color: #434B5C;\n",
              "      --hover-fill-color: #FFFFFF;\n",
              "      --disabled-bg-color: #3B4455;\n",
              "      --disabled-fill-color: #666;\n",
              "  }\n",
              "\n",
              "  .colab-df-quickchart {\n",
              "    background-color: var(--bg-color);\n",
              "    border: none;\n",
              "    border-radius: 50%;\n",
              "    cursor: pointer;\n",
              "    display: none;\n",
              "    fill: var(--fill-color);\n",
              "    height: 32px;\n",
              "    padding: 0;\n",
              "    width: 32px;\n",
              "  }\n",
              "\n",
              "  .colab-df-quickchart:hover {\n",
              "    background-color: var(--hover-bg-color);\n",
              "    box-shadow: 0 1px 2px rgba(60, 64, 67, 0.3), 0 1px 3px 1px rgba(60, 64, 67, 0.15);\n",
              "    fill: var(--button-hover-fill-color);\n",
              "  }\n",
              "\n",
              "  .colab-df-quickchart-complete:disabled,\n",
              "  .colab-df-quickchart-complete:disabled:hover {\n",
              "    background-color: var(--disabled-bg-color);\n",
              "    fill: var(--disabled-fill-color);\n",
              "    box-shadow: none;\n",
              "  }\n",
              "\n",
              "  .colab-df-spinner {\n",
              "    border: 2px solid var(--fill-color);\n",
              "    border-color: transparent;\n",
              "    border-bottom-color: var(--fill-color);\n",
              "    animation:\n",
              "      spin 1s steps(1) infinite;\n",
              "  }\n",
              "\n",
              "  @keyframes spin {\n",
              "    0% {\n",
              "      border-color: transparent;\n",
              "      border-bottom-color: var(--fill-color);\n",
              "      border-left-color: var(--fill-color);\n",
              "    }\n",
              "    20% {\n",
              "      border-color: transparent;\n",
              "      border-left-color: var(--fill-color);\n",
              "      border-top-color: var(--fill-color);\n",
              "    }\n",
              "    30% {\n",
              "      border-color: transparent;\n",
              "      border-left-color: var(--fill-color);\n",
              "      border-top-color: var(--fill-color);\n",
              "      border-right-color: var(--fill-color);\n",
              "    }\n",
              "    40% {\n",
              "      border-color: transparent;\n",
              "      border-right-color: var(--fill-color);\n",
              "      border-top-color: var(--fill-color);\n",
              "    }\n",
              "    60% {\n",
              "      border-color: transparent;\n",
              "      border-right-color: var(--fill-color);\n",
              "    }\n",
              "    80% {\n",
              "      border-color: transparent;\n",
              "      border-right-color: var(--fill-color);\n",
              "      border-bottom-color: var(--fill-color);\n",
              "    }\n",
              "    90% {\n",
              "      border-color: transparent;\n",
              "      border-bottom-color: var(--fill-color);\n",
              "    }\n",
              "  }\n",
              "</style>\n",
              "\n",
              "  <script>\n",
              "    async function quickchart(key) {\n",
              "      const quickchartButtonEl =\n",
              "        document.querySelector('#' + key + ' button');\n",
              "      quickchartButtonEl.disabled = true;  // To prevent multiple clicks.\n",
              "      quickchartButtonEl.classList.add('colab-df-spinner');\n",
              "      try {\n",
              "        const charts = await google.colab.kernel.invokeFunction(\n",
              "            'suggestCharts', [key], {});\n",
              "      } catch (error) {\n",
              "        console.error('Error during call to suggestCharts:', error);\n",
              "      }\n",
              "      quickchartButtonEl.classList.remove('colab-df-spinner');\n",
              "      quickchartButtonEl.classList.add('colab-df-quickchart-complete');\n",
              "    }\n",
              "    (() => {\n",
              "      let quickchartButtonEl =\n",
              "        document.querySelector('#df-edf8274d-c087-41b2-9d52-1b3c583f5a06 button');\n",
              "      quickchartButtonEl.style.display =\n",
              "        google.colab.kernel.accessAllowed ? 'block' : 'none';\n",
              "    })();\n",
              "  </script>\n",
              "</div>\n",
              "\n",
              "    </div>\n",
              "  </div>\n"
            ],
            "application/vnd.google.colaboratory.intrinsic+json": {
              "type": "dataframe",
              "summary": "{\n  \"name\": \"df\",\n  \"rows\": 5,\n  \"fields\": [\n    {\n      \"column\": \"Account ID\",\n      \"properties\": {\n        \"dtype\": \"number\",\n        \"std\": 2031,\n        \"min\": 2720,\n        \"max\": 7876,\n        \"num_unique_values\": 5,\n        \"samples\": [\n          4112,\n          7876,\n          6606\n        ],\n        \"semantic_type\": \"\",\n        \"description\": \"\"\n      }\n    },\n    {\n      \"column\": \"Username\",\n      \"properties\": {\n        \"dtype\": \"string\",\n        \"num_unique_values\": 5,\n        \"samples\": [\n          \"ellenmitchell\",\n          \"samanthajohnson\",\n          \"randallmichael\"\n        ],\n        \"semantic_type\": \"\",\n        \"description\": \"\"\n      }\n    },\n    {\n      \"column\": \"Platform\",\n      \"properties\": {\n        \"dtype\": \"string\",\n        \"num_unique_values\": 4,\n        \"samples\": [\n          \"Twitter\",\n          \"Instagram\",\n          \"TikTok\"\n        ],\n        \"semantic_type\": \"\",\n        \"description\": \"\"\n      }\n    },\n    {\n      \"column\": \"Follower Count\",\n      \"properties\": {\n        \"dtype\": \"number\",\n        \"std\": 238502,\n        \"min\": 172292,\n        \"max\": 704682,\n        \"num_unique_values\": 5,\n        \"samples\": [\n          193280,\n          564359,\n          279213\n        ],\n        \"semantic_type\": \"\",\n        \"description\": \"\"\n      }\n    },\n    {\n      \"column\": \"Posts Per Week\",\n      \"properties\": {\n        \"dtype\": \"number\",\n        \"std\": 2,\n        \"min\": 1,\n        \"max\": 7,\n        \"num_unique_values\": 5,\n        \"samples\": [\n          7,\n          1,\n          2\n        ],\n        \"semantic_type\": \"\",\n        \"description\": \"\"\n      }\n    },\n    {\n      \"column\": \"Engagement Rate\",\n      \"properties\": {\n        \"dtype\": \"number\",\n        \"std\": 0.016589996986135953,\n        \"min\": 0.0642,\n        \"max\": 0.102,\n        \"num_unique_values\": 3,\n        \"samples\": [\n          0.102,\n          0.0986,\n          0.0642\n        ],\n        \"semantic_type\": \"\",\n        \"description\": \"\"\n      }\n    },\n    {\n      \"column\": \"Ad Spend (USD)\",\n      \"properties\": {\n        \"dtype\": \"number\",\n        \"std\": 317.53997830194544,\n        \"min\": 159.96,\n        \"max\": 899.1,\n        \"num_unique_values\": 5,\n        \"samples\": [\n          159.96,\n          894.7,\n          899.1\n        ],\n        \"semantic_type\": \"\",\n        \"description\": \"\"\n      }\n    },\n    {\n      \"column\": \"Conversion Rate\",\n      \"properties\": {\n        \"dtype\": \"number\",\n        \"std\": 0.013556363819254777,\n        \"min\": 0.0207,\n        \"max\": 0.0479,\n        \"num_unique_values\": 5,\n        \"samples\": [\n          0.0479,\n          0.0207,\n          0.044\n        ],\n        \"semantic_type\": \"\",\n        \"description\": \"\"\n      }\n    },\n    {\n      \"column\": \"Campaign Reach\",\n      \"properties\": {\n        \"dtype\": \"number\",\n        \"std\": 10219,\n        \"min\": 18202,\n        \"max\": 39822,\n        \"num_unique_values\": 5,\n        \"samples\": [\n          35990,\n          19716,\n          18202\n        ],\n        \"semantic_type\": \"\",\n        \"description\": \"\"\n      }\n    }\n  ]\n}"
            }
          },
          "metadata": {},
          "execution_count": 68
        }
      ],
      "source": [
        "df.sample(5)"
      ]
    },
    {
      "cell_type": "markdown",
      "metadata": {
        "id": "SZdXc7M2dP4V"
      },
      "source": [
        "#### Задание 1\n",
        "\n",
        "Колонка `Platform` содержит название различных платформ. Давайте представим, что в них есть некоторое отношение порядка. Закодируйте каждую платформу целым числом (от 0 до N) и положите этот \"код\" в новую колонку `Platform_Code`. Теперь вычислите корреляцию Спирмена между всеми парами колонок в датасете (результатом будет таблица корреляций). В качестве ответа выведите значение корреляции `Platform_Code` с `Engagement Rate`. Можете после вывода числа еще коротко написать, что оно означает (нет, это не оценивается).\n",
        "\n",
        "**Hint**: [pd.factorize](https://pandas.pydata.org/pandas-docs/stable/reference/api/pandas.factorize.html), [pd.DataFrame.select_dtypes](https://pandas.pydata.org/pandas-docs/stable/reference/api/pandas.DataFrame.select_dtypes.html), [pd.DataFrame.corr](https://pandas.pydata.org/pandas-docs/stable/reference/api/pandas.DataFrame.corr.html)."
      ]
    },
    {
      "cell_type": "code",
      "execution_count": 69,
      "metadata": {
        "colab": {
          "base_uri": "https://localhost:8080/"
        },
        "id": "Gm_dgv70dP4W",
        "outputId": "4c6fe92e-73fe-4df1-8586-a965aaacacd0"
      },
      "outputs": [
        {
          "output_type": "execute_result",
          "data": {
            "text/plain": [
              "0.03138169529349812"
            ]
          },
          "metadata": {},
          "execution_count": 69
        }
      ],
      "source": [
        "df[\"Platform_Code\"], _ = pd.factorize(df[\"Platform\"])\n",
        "\n",
        "corr_matrix = df.select_dtypes(include=[\"number\"]).corr(method=\"spearman\")\n",
        "result = corr_matrix.loc[\"Platform_Code\", \"Engagement Rate\"]\n",
        "result"
      ]
    },
    {
      "cell_type": "markdown",
      "metadata": {
        "id": "8SdDJgrNdP4W"
      },
      "source": [
        "#### Задание 2\n",
        "\n",
        "Теперь посмотрите на столбец `Follower Count`. В нем какие-то числа. Иногда бывает полезно провести дискретизацию такого признака. Разбейте все значения в столбце на 4 группы: \"Low\", \"Medium\", \"High\", \"Very High\". Каждая группа включает в себя новые 25% данных. То есть, Low включает в себя 25% самых маленьких значений признака и так далее. Положите значения \"Low\", \"Medium\", \"High\" или \"Very High\" для каждого сэмпла датасета в новую колонку `Follower_Bin`. Теперь посчитайте среднее значение `Engagement Rate` для каждой категории из `Follower_Bin`. В качестве ответа выведите значение для категории \"High\".\n",
        "\n",
        "**Hint**: [pd.qcut](https://pandas.pydata.org/pandas-docs/stable/reference/api/pandas.qcut.html), [pd.groupby](https://pandas.pydata.org/pandas-docs/stable/reference/api/pandas.DataFrame.groupby.html), [pd.DataFrame.mean](https://pandas.pydata.org/pandas-docs/stable/reference/api/pandas.DataFrame.mean.html)"
      ]
    },
    {
      "cell_type": "code",
      "execution_count": 70,
      "metadata": {
        "colab": {
          "base_uri": "https://localhost:8080/"
        },
        "id": "SdqD67SwdP4W",
        "outputId": "380ed812-7c6d-4341-b726-dd08c4c391b8"
      },
      "outputs": [
        {
          "output_type": "execute_result",
          "data": {
            "text/plain": [
              "0.08655032"
            ]
          },
          "metadata": {},
          "execution_count": 70
        }
      ],
      "source": [
        "df[\"Follower_Bin\"] = pd.qcut(df[\"Follower Count\"], q=4,\n",
        "                             labels=[\"Low\", \"Medium\", \"High\", \"Very High\"])\n",
        "result = df.groupby(\"Follower_Bin\", observed=False)[\"Engagement Rate\"].mean()\n",
        "result[\"High\"]"
      ]
    },
    {
      "cell_type": "markdown",
      "metadata": {
        "id": "UxKRYXx4dP4X"
      },
      "source": [
        "#### Задание 3\n",
        "\n",
        "Иногда бывает полезно превратить широкую таблицу в длинную (например, для визуализаций сразу нескольких признаков на одной картинке). Да, звучит странно, но именно этим вы сейчас и займетесь. Сделайте новый датафрейм `melted_df`, в который вы поместите каждый сэмпл датасета 6 раз: по одному разу на значение из 'Follower Count', 'Posts Per Week', 'Ad Spend (USD)', 'Conversion Rate', 'Engagement Rate' и 'Campaign Reach'. То есть, вы берете сэмпл из датасета (строку) и превращаете ее в 6 отдельных строк. Каждая отдельная строка в столбце `Metric` имеет имя из предложенного списка 5 признаков, а в столбце `Value` - значение данного сэмпла по этому признаку. Значение `Platform` повторяется в этих 6 строках.\n",
        "\n",
        "Иначе говоря,\n",
        "\n",
        "```json\n",
        "{\n",
        "    \"Account ID\": 1,\n",
        "    \"Username\": \"harrislisa\",\n",
        "    \"Platform\": \"TikTok\",\n",
        "    \"Follower Count\": 54217,\n",
        "    \"Posts Per Week\": 3,\n",
        "    \"Engagement Rate\": 0.0986,\n",
        "    \"Ad Spend (USD)\": 538.1,\n",
        "    \"Conversion Rate\": 0.049,\n",
        "    \"Campaign Reach\": 1308,\n",
        "    \"Platform_Code\": 0,\n",
        "    \"Follower_Bin\": \"Low\"\n",
        "}\n",
        "```\n",
        "\n",
        "превращается в\n",
        "\n",
        "```json\n",
        "{\n",
        "    \"Platform\": \"TikTok\",\n",
        "    \"Metric\": \"Follower Count\",\n",
        "    \"Value\": 54217,\n",
        "},\n",
        "{\n",
        "    \"Platform\": \"TikTok\",\n",
        "    \"Metric\": \"Posts Per Week\",\n",
        "    \"Value\": 3,\n",
        "}, ...\n",
        "```\n",
        "\n",
        "Для каждого уникальной пары значений (`Platform`, `Metric`) посчитайте моду среди всех значений `Value` для этой пары, результат сделайте списком и оставьте только наибольшее. В качестве ответа выведите сумму полученных мод (сумму всех значений в столбце `Value` уже после вычисления мод). Иначе говоря, выведите сумму всех мод значений для всех уникальных пар (`Platform`, `Metric`).\n",
        "\n",
        "**Hint**: [pd.melt](https://pandas.pydata.org/pandas-docs/stable/reference/api/pandas.melt.html), [pd.DataFrame.mode](https://pandas.pydata.org/pandas-docs/stable/reference/api/pandas.DataFrame.mode.html), [pd.DataFrameGroupBy.agg](https://pandas.pydata.org/docs/dev/reference/api/pandas.core.groupby.DataFrameGroupBy.agg.html)"
      ]
    },
    {
      "cell_type": "code",
      "execution_count": 71,
      "metadata": {
        "colab": {
          "base_uri": "https://localhost:8080/"
        },
        "id": "a2-W3Zp9dP4X",
        "outputId": "db686c59-6758-421a-f5cb-8b5bbe928081"
      },
      "outputs": [
        {
          "output_type": "execute_result",
          "data": {
            "text/plain": [
              "3100285.4716"
            ]
          },
          "metadata": {},
          "execution_count": 71
        }
      ],
      "source": [
        "melted_df = df.melt(id_vars=[\"Platform\"],\n",
        "                    value_vars=[\"Follower Count\", \"Posts Per Week\",\n",
        "                                \"Ad Spend (USD)\", \"Conversion Rate\",\n",
        "                                \"Engagement Rate\", \"Campaign Reach\"],\n",
        "                     var_name=\"Metric\", value_name=\"Value\")\n",
        "result = melted_df.groupby([\"Platform\", \"Metric\"],\n",
        "                           observed=False)[\"Value\"].agg(lambda x:\n",
        "                                                        x.mode().max())\n",
        "result.sum()"
      ]
    },
    {
      "cell_type": "markdown",
      "metadata": {
        "id": "eP7fstX3dP4X"
      },
      "source": [
        "#### Задание 4\n",
        "\n",
        "А теперь хочется посмотреть на самые популярные аккаунты на разных платформах. Для каждой платформы отсортируйте датафрейм по убыванию количества подписчиков (`Follower Count`) - да, без циклов, сразу для всех платформ сделать сортировку, а затем оставьте только первые три записи для каждой платформы - это и будут три самых популярных аккаунта для каждой платформы. В качестве ответа выведите саму таблицу и минимальное значение `Follower Count` в ней.\n",
        "\n",
        "**Hint**: к *groupby* можно применять функции - это эквивалентно применению функции к каждой \"группе\" внутри groupby-объекта. Читайте [про применение apply к датафрейму после groupby](https://pandas.pydata.org/pandas-docs/stable/user_guide/groupby.html#flexible-apply)."
      ]
    },
    {
      "cell_type": "code",
      "execution_count": 12,
      "metadata": {
        "colab": {
          "base_uri": "https://localhost:8080/"
        },
        "id": "T8TVHGHNdP4X",
        "outputId": "02dee26e-74db-409e-a095-171b23868700"
      },
      "outputs": [
        {
          "output_type": "stream",
          "name": "stdout",
          "text": [
            "      Account ID         Username   Platform  Follower Count  Posts Per Week  \\\n",
            "2403        2404           eric65   Facebook          999982               6   \n",
            "7350        7351     patricknoble   Facebook          997915               3   \n",
            "1689        1690      chavezjason   Facebook          997512               7   \n",
            "8685        8686  alexandersamuel  Instagram          999726               3   \n",
            "3965        3966         lrodgers  Instagram          999351               1   \n",
            "2189        2190           jbrown  Instagram          997844               5   \n",
            "3039        3040          toneill   LinkedIn          999055               4   \n",
            "6359        6360    andrewgregory   LinkedIn          998968               7   \n",
            "2159        2160     ashleycooper   LinkedIn          998925               6   \n",
            "5838        5839     edwardthomas     TikTok          999739               7   \n",
            "4234        4235    andradewesley     TikTok          999234               5   \n",
            "2575        2576     williamwyatt     TikTok          998623               6   \n",
            "4920        4921      teresaellis    Twitter          999919               6   \n",
            "9684        9685           sriley    Twitter          999442               3   \n",
            "7576        7577       peggymunoz    Twitter          998216               6   \n",
            "\n",
            "      Engagement Rate  Ad Spend (USD)  Conversion Rate  Campaign Reach  \\\n",
            "2403           0.0642          884.06           0.0281           17312   \n",
            "7350           0.0834          429.01           0.0182           25985   \n",
            "1689           0.0834          993.20           0.0397           45717   \n",
            "8685           0.0834          687.61           0.0205           11050   \n",
            "3965           0.0834          565.07           0.0335           12391   \n",
            "2189           0.0642          505.61           0.0202           14717   \n",
            "3039           0.0642          799.49           0.0174           21862   \n",
            "6359           0.1020          797.64           0.0351           15552   \n",
            "2159           0.0856          474.46           0.0156           45956   \n",
            "5838           0.0642          630.77           0.0325           35523   \n",
            "4234           0.0834          872.77           0.0481           17188   \n",
            "2575           0.0856          477.98           0.0250           43299   \n",
            "4920           0.0834          411.63           0.0460            3975   \n",
            "9684           0.0834          206.84           0.0225           12783   \n",
            "7576           0.0642          456.61           0.0456           22037   \n",
            "\n",
            "      Platform_Code Follower_Bin  \n",
            "2403              2    Very High  \n",
            "7350              2    Very High  \n",
            "1689              2    Very High  \n",
            "8685              3    Very High  \n",
            "3965              3    Very High  \n",
            "2189              3    Very High  \n",
            "3039              1    Very High  \n",
            "6359              1    Very High  \n",
            "2159              1    Very High  \n",
            "5838              0    Very High  \n",
            "4234              0    Very High  \n",
            "2575              0    Very High  \n",
            "4920              4    Very High  \n",
            "9684              4    Very High  \n",
            "7576              4    Very High  \n",
            "Минимальное значение Follower Count в таблице:  997512\n"
          ]
        }
      ],
      "source": [
        "result = df.sort_values([\"Platform\", \"Follower Count\"], ascending=[True, False])\\\n",
        "           .groupby(\"Platform\").head(3)\n",
        "print(result)\n",
        "print(\"Минимальное значение Follower Count в таблице: \",\n",
        "      result[\"Follower Count\"].min())"
      ]
    },
    {
      "cell_type": "markdown",
      "metadata": {
        "id": "iPXsDZ7AdP4X"
      },
      "source": [
        "#### Задание 5\n",
        "\n",
        "Хочется посчитать какую-то метрику. Мы хотим посмотреть, на отношение разности суммы подписчиков аккаунтов с высокой и низкой конверсией к суммарному охвату рекламы на каждой платформе. То есть, мы делим аккаунты на две группы: высокая и низка конверсия. Затем мы смотрим на то, на сколько сильно влияние аккаунтов с высокой конверсией по сравнению с аккаунтами с низкой конверсией.\n",
        "\n",
        "Давайте определим *Conversion Influence* следущим образом:\n",
        "\n",
        "$$Conversion Influence = \\frac{Total Follower\\ Count (High) - Total Follower\\ Count (Low)}{Total Campaign Reach (High)+Total Campaign Reach (Low)}$$\n",
        "\n",
        "Считать эту метрику мы будет для каждой `Platform`. В этой формуле High - это значения всех сэмплов датасета, в которых `Conversion Rate` больше медианы, а `Low` - не более медианы. `Total Feature` - это суммарное количество значений `Feature` либо по `High` сэмплам, либо по `Low`.\n",
        "\n",
        "Чтобы постоянно не пересчитывать, где High. где Low, сделайте новую колонку в датасете `Conversion_Category`. Положите в нее для каждой строки либо High, либо Low.\n",
        "\n",
        "Выведите платформу с самым большим `Conversion Influence`.\n",
        "\n",
        "**Hint**: данное задание не про *groupby*, а скорее про [pd.pivot_table](https://pandas.pydata.org/pandas-docs/stable/reference/api/pandas.pivot_table.html). Сделайте сводную таблицу, по которой уже можно посчитать суммы, а затем подставить их в формулы."
      ]
    },
    {
      "cell_type": "code",
      "execution_count": 13,
      "metadata": {
        "colab": {
          "base_uri": "https://localhost:8080/",
          "height": 35
        },
        "id": "jABPLvUDdP4X",
        "outputId": "04bb38bc-1fbf-48b3-8cdb-624f2ab11812"
      },
      "outputs": [
        {
          "output_type": "execute_result",
          "data": {
            "text/plain": [
              "'Twitter'"
            ],
            "application/vnd.google.colaboratory.intrinsic+json": {
              "type": "string"
            }
          },
          "metadata": {},
          "execution_count": 13
        }
      ],
      "source": [
        "median = df[\"Conversion Rate\"].median()\n",
        "df[\"Conversion_Category\"] = df[\"Conversion Rate\"]\\\n",
        "                            .apply(lambda x: \"Low\" if x <= median else \"High\")\n",
        "pivot_table = df.pivot_table(index=\"Platform\", columns=\"Conversion_Category\",\n",
        "                             values=[\"Follower Count\", \"Campaign Reach\"],\n",
        "                             aggfunc=\"sum\")\n",
        "pivot_table[\"Conversion Influence\"] = (pivot_table[(\"Follower Count\", \"High\")] -\n",
        "                                       pivot_table[(\"Follower Count\", \"Low\")]\n",
        "                                       ) / (pivot_table[(\"Campaign Reach\", \"High\")] +\n",
        "                                       pivot_table[(\"Campaign Reach\", \"Low\")])\n",
        "pivot_table[\"Conversion Influence\"].idxmax()"
      ]
    },
    {
      "cell_type": "markdown",
      "metadata": {
        "id": "mmhvCu3ndP4X"
      },
      "source": [
        "#### Задание 6\n",
        "\n",
        "Мы знаем, что вам понравилось считать метрики по формуле. Давайте закрепим этот успех. Теперь для каждой платформы посчитаем, на сколько эффективна реклама в разрезе трех последовательных записей в датасете.\n",
        "\n",
        "Для каждой платформы отсортируйте записи в порядке убывания `Posts Per Week`. Будто бы аккаунты, которые постят чаще, используют более \"активные\" стратегии по рекламе. Теперь посчитайте *скользущие суммы с окном 3* по `Campaign Reach` и `Ad Spend (USD)`. Скользящая сумма с окном N - это вы идете по массиву, берете все последовательные тройки записей и суммируете их. Для первых двух записей троек не найдется. Для них скользящее среднее - NaN, что нам не помешает.\n",
        "\n",
        "Теперь для каждого окна посчитайте\n",
        "\n",
        "$$Rolling Efficiency Ratio = \\frac{Rolling Sum of Campaign Reach}{Rolling Sum of Ad Spend}$$\n",
        "\n",
        "По сути, для каждого окна вы посчитаете сколько пользователе привлеклось за один доллар, потреченный на рекламу, в данном окне. Понятно, что значений будет столько, сколько окон. Нам интересно максимально значение такой эффективности для каждой платформы.\n",
        "\n",
        "В качестве ответа выведите название платформы с наибольшей максимальной эффективность и наименьшей (два названия, не одно, не три, ровно два).\n",
        "\n",
        "**Hint**: окна можно делать через [pd.DataFrame.rolling](https://pandas.pydata.org/pandas-docs/stable/reference/api/pandas.DataFrame.rolling.html)."
      ]
    },
    {
      "cell_type": "code",
      "execution_count": 14,
      "metadata": {
        "colab": {
          "base_uri": "https://localhost:8080/"
        },
        "id": "KF7KBbwhdP4Y",
        "outputId": "0835bb3f-a28d-4e6a-bf09-f46cd6964d25"
      },
      "outputs": [
        {
          "output_type": "stream",
          "name": "stdout",
          "text": [
            "Платформа с наибольшей эффективностью:  Facebook\n",
            "Платформа с наименьшей эффективностью:  LinkedIn\n"
          ]
        }
      ],
      "source": [
        "sorted_df = df.sort_values([\"Platform\", \"Posts Per Week\"], ascending=[True, False])\n",
        "sorted_df[\"Rolling_Campaign_Reach\"] = sorted_df.groupby(\"Platform\")[\"Campaign Reach\"].rolling(window=3).sum().reset_index(0, drop=True)\n",
        "sorted_df[\"Rolling_Ad_Spend\"] = sorted_df.groupby(\"Platform\")[\"Ad Spend (USD)\"].rolling(window=3).sum().reset_index(0, drop=True)\n",
        "sorted_df[\"Rolling_Efficiency_Ratio\"] = sorted_df[\"Rolling_Campaign_Reach\"] / sorted_df[\"Rolling_Ad_Spend\"]\n",
        "result_max = sorted_df.groupby(\"Platform\")[\"Rolling_Efficiency_Ratio\"].max().idxmax()\n",
        "result_min = sorted_df.groupby(\"Platform\")[\"Rolling_Efficiency_Ratio\"].min().idxmin()\n",
        "print(\"Платформа с наибольшей эффективностью: \", result_max)\n",
        "print(\"Платформа с наименьшей эффективностью: \", result_min)"
      ]
    },
    {
      "cell_type": "markdown",
      "metadata": {
        "id": "KJvm1jVhdP4Y"
      },
      "source": [
        "#### Задание 7\n",
        "\n",
        "Это еще не все прекрасные функции pandas, которые мы хотим вам показать. Теперь вы посчитаете, сколько аккаунтов на каждой платформе одновременно лучшие по `Engagement Rate` и `Conversion Rate`.\n",
        "\n",
        "Сделайте два отдельных суб-сета. В одном оставьте для каждой платфмормы один топовый аккаунт по `Engagement Rate`, в другом - по `Conversion Rate`. Соедините эти два подмножества по столбцу `Platform` так, что в одно строке есть описание сразу двух аккаунтов-лидеров. Теперь посмотрите равны ли имена аккаунтов в одной строке. Выведите количество строк, в которых названия аккаунтов совпадают."
      ]
    },
    {
      "cell_type": "code",
      "execution_count": 15,
      "metadata": {
        "colab": {
          "base_uri": "https://localhost:8080/"
        },
        "id": "a_QKwCNRdP4Y",
        "outputId": "642a21c5-8aa9-4b33-fe1a-8c78168851ed"
      },
      "outputs": [
        {
          "output_type": "stream",
          "name": "stdout",
          "text": [
            "    Platform Username_Engagement Username_Conversion\n",
            "0   Facebook             qthomas           michael55\n",
            "1  Instagram        jaimeedwards       aprilwilliams\n",
            "2   LinkedIn             allen72              jeff87\n",
            "3     TikTok          carlosholt        robertmorris\n",
            "4    Twitter       marquezedward           trobinson\n",
            "Количество строк, в которых названия аккаунтов совпадают:  0\n"
          ]
        }
      ],
      "source": [
        "top_engagement_rate = df.loc[df.groupby(\"Platform\")[\"Engagement Rate\"].idxmax(), [\"Platform\", \"Username\"]]\n",
        "top_conversion_rate = df.loc[df.groupby(\"Platform\")[\"Conversion Rate\"].idxmax(), [\"Platform\", \"Username\"]]\n",
        "merged = top_engagement_rate.merge(top_conversion_rate, on=\"Platform\", suffixes=(\"_Engagement\", \"_Conversion\"))\n",
        "print(merged)\n",
        "result = (merged[\"Username_Engagement\"] == merged[\"Username_Conversion\"]).sum()\n",
        "print(\"Количество строк, в которых названия аккаунтов совпадают: \", result)"
      ]
    },
    {
      "cell_type": "markdown",
      "metadata": {
        "id": "qr_R5W3sdP4Y"
      },
      "source": [
        "#### Задание 8\n",
        "\n",
        "Давайте теперь что-то попроще сделаем. Например, посчитаем отношение суммарного количества подписчиков на аккаунтах с высокой конверсией к такой же сумме в аккаунтах с низкой конверсией (очевидно, для каждой платформы). По сути, мы просто хотим получить число, которое характеризует, на сколько сильно аккаунты с высокой конверсией \"доминируют\" над аккаунтами с низкой конверсией в плане количества подписчиков.\n",
        "\n",
        "Высокой конверсией будем считать конверсию больше средней. Остальное - низкая. Посчитайте суммы подписчиков для каждой платформы, поделите одно на другое и выведите разницу между самым большим значением и самым маленьким, а также платформы, которые соотвутствуют этим значениям.\n",
        "\n",
        "Используйте магическую команду `%%time`, чтобы замерить, сколько времени ушло на исполнение вашего pandas-скрипта."
      ]
    },
    {
      "cell_type": "code",
      "execution_count": 73,
      "metadata": {
        "id": "1k2JFB4ldP4Y",
        "colab": {
          "base_uri": "https://localhost:8080/"
        },
        "outputId": "c0c36a80-4cca-48b5-92d4-a093c792bbe5"
      },
      "outputs": [
        {
          "output_type": "stream",
          "name": "stdout",
          "text": [
            "Разница в соотношении:  0.17688741338715763  Время исполнения:  0.010487556457519531\n"
          ]
        }
      ],
      "source": [
        "import time\n",
        "start = time.time()\n",
        "mean = df[\"Conversion Rate\"].mean()\n",
        "df[\"Conversion Category\"] = df[\"Conversion Rate\"].apply(lambda x: \"High\" if x > mean else \"Low\")\n",
        "sums = df.groupby([\"Platform\", \"Conversion Category\"])[\"Follower Count\"].sum().unstack()\n",
        "ratios = sums[\"High\"] / sums[\"Low\"]\n",
        "diff = ratios.max() - ratios.min()\n",
        "time_result = time.time() - start\n",
        "print(\"Разница в соотношении: \", diff,\" Время исполнения: \", time_result)"
      ]
    },
    {
      "cell_type": "markdown",
      "metadata": {
        "id": "uKVRFg7ZdP4Y"
      },
      "source": [
        "#### Задание 9\n",
        "\n",
        "А теперь решите задание 8 чисто питоном. Никаких функций и методов pandas. Только питоновские циклы. Замерьте время выполнения кода. Наконец, сравните время в задании 8 и 9. Напишите ниже, кто же победил: чистый python и pandas?\n",
        "\n",
        "**Hint**: Чтобы итерироваться по датафрейму, можно из него сделать генератор через [pd.DataFrame.iterrows](https://pandas.pydata.org/pandas-docs/stable/reference/api/pandas.DataFrame.iterrows.html) или [pd.DataFrame.itertuples](https://pandas.pydata.org/pandas-docs/stable/reference/api/pandas.DataFrame.itertuples.html#pandas.DataFrame.itertuples). К слову, это не все способы итерироваться по датафрейму."
      ]
    },
    {
      "cell_type": "code",
      "execution_count": 72,
      "metadata": {
        "id": "DHZ5yOhkdP4Y",
        "colab": {
          "base_uri": "https://localhost:8080/"
        },
        "outputId": "3fb841ef-a393-4334-c700-9730d3539579"
      },
      "outputs": [
        {
          "output_type": "stream",
          "name": "stdout",
          "text": [
            "Разница в соотношении:  0.17688741338715763  Время исполнения:  0.041700124740600586\n"
          ]
        }
      ],
      "source": [
        "import time\n",
        "start = time.time()\n",
        "sums = {}\n",
        "conversion = [row[7] for row in df.itertuples(index=False)]\n",
        "conversion_mean = sum(conversion) / len(conversion)\n",
        "for row in df.itertuples(index=False):\n",
        "  value = row.Platform\n",
        "  category = \"High\" if row[7] > conversion_mean else \"Low\"\n",
        "  followers = row[3]\n",
        "  if value not in sums:\n",
        "    sums[value] = {\"Low\": 0, \"High\": 0}\n",
        "  sums[value][category] += followers\n",
        "ratios_second = {platform: data[\"High\"] / data[\"Low\"] for platform, data in sums.items()}\n",
        "difference = max(ratios_second.values()) - min(ratios_second.values())\n",
        "time_second = time.time() - start\n",
        "print(\"Разница в соотношении: \", difference, \" Время исполнения: \", time_second)"
      ]
    },
    {
      "cell_type": "markdown",
      "metadata": {
        "id": "yryWH881dP4Y"
      },
      "source": [
        "**А победителем является**: Pandas в среднем справляется с этим заданием в 4 раза быстрее, чем чистый Python"
      ]
    },
    {
      "cell_type": "markdown",
      "metadata": {
        "id": "R3BkmIJEdP4Y"
      },
      "source": [
        "#### Задание 10\n",
        "\n",
        "Крайне серьезное задание. Отнеситесь к нему соответствующе. В ячейке ниже напишите ваш любимый анекдот или мем (только без баянов, окей?). Можно плохие. Помните, это задание на полный балл. Проверяющий работу ассистент должен улыбнуться.\n",
        "\n",
        "Если вставляете картинку, то убедитесь, что вы ее не подгружаете локально. А то будет неудобно - потерять балл на этом задании, когда надо было выложить картинку на облако и прокинуть ссылку. И нет, нельзя сюда просто ссылку вставить. Либо ищите, как вставить картинку, либо смешной анекдот. Есть всего два стула - выбирайте..."
      ]
    },
    {
      "cell_type": "markdown",
      "source": [
        "<div align=\"center\">\n",
        "    <img src=\"https://drive.google.com/uc?id=11vsgGZQLkgy5jCyg3lmNKJjfJvmIUXZJ\" width=\"500\">\n",
        "</div>"
      ],
      "metadata": {
        "id": "lqej9cqbsp_h"
      }
    }
  ],
  "metadata": {
    "kernelspec": {
      "display_name": "default",
      "language": "python",
      "name": "python3"
    },
    "language_info": {
      "codemirror_mode": {
        "name": "ipython",
        "version": 3
      },
      "file_extension": ".py",
      "mimetype": "text/x-python",
      "name": "python",
      "nbconvert_exporter": "python",
      "pygments_lexer": "ipython3",
      "version": "3.11.9"
    },
    "colab": {
      "provenance": [],
      "toc_visible": true
    }
  },
  "nbformat": 4,
  "nbformat_minor": 0
}